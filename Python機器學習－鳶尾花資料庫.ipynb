{
 "cells": [
  {
   "cell_type": "code",
   "execution_count": 3,
   "metadata": {},
   "outputs": [
    {
     "name": "stdout",
     "output_type": "stream",
     "text": [
      "[0 1 1 1 2 0 0 1 1 1 2 1 0 1 1 1 2 2 1 1 2 2 1 1 1 2 0 0 0 1 1 1 0 2 0 1 2\n",
      " 0 1 1 2 1 2 1 2]\n",
      "[0 1 1 1 2 0 0 1 1 1 2 1 0 1 1 1 2 2 1 1 2 2 1 1 1 2 0 0 0 1 1 1 0 2 0 1 2\n",
      " 0 1 1 2 1 2 1 2]\n",
      "1.0\n",
      "[1 2 2 1 0 1 0 1 0 2 2 1 1 0 2 0 2 2 2 2 2 2 0 0 1 0 0 1 1 1 1 2 0 0 0 2 2\n",
      " 2 2 0 0 1 1 0 1]\n",
      "[1 2 2 1 0 1 0 1 0 2 2 1 1 0 2 0 2 2 2 2 2 2 0 0 1 0 0 1 1 1 1 2 0 0 0 2 2\n",
      " 2 2 0 0 1 1 0 1]\n",
      "1.0\n"
     ]
    },
    {
     "data": {
      "image/png": "[encoded data removed]",
      "text/plain": [
       "<Figure size 432x288 with 1 Axes>"
      ]
     },
     "metadata": {},
     "output_type": "display_data"
    },
    {
     "name": "stdout",
     "output_type": "stream",
     "text": [
      "5\n"
     ]
    }
   ],
   "source": [
    "from sklearn.datasets import load_iris\n",
    "from sklearn import tree\n",
    "from sklearn.cross_validation import train_test_split\n",
    "from sklearn import metrics\n",
    "iris = load_iris()\n",
    "iris_X = iris.data\n",
    "iris_y = iris.target\n",
    "train_X, test_X, train_y, test_y = train_test_split(iris_X, iris_y, test_size = 0.3)\n",
    "clf = tree.DecisionTreeClassifier()\n",
    "clf = clf.fit(iris.data, iris.target)\n",
    "test_y_predicted = clf.predict(test_X)\n",
    "print(test_y_predicted)\n",
    "print(test_y)\n",
    "accuracy = metrics.accuracy_score(test_y, test_y_predicted)\n",
    "print(accuracy)\n",
    "\n",
    "from sklearn.datasets import load_iris\n",
    "from sklearn import neighbors\n",
    "from sklearn.cross_validation import train_test_split\n",
    "from sklearn import metrics\n",
    "\n",
    "# 讀入鳶尾花資料\n",
    "iris = load_iris()\n",
    "iris_X = iris.data\n",
    "iris_y = iris.target\n",
    "\n",
    "# 切分訓練與測試資料\n",
    "train_X, test_X, train_y, test_y = train_test_split(iris_X, iris_y, test_size = 0.3)\n",
    "\n",
    "# 建立分類器\n",
    "clf = neighbors.KNeighborsClassifier()\n",
    "iris_clf = clf.fit(train_X, train_y)\n",
    "\n",
    "# 預測\n",
    "test_y_predicted = iris_clf.predict(test_X)\n",
    "print(test_y_predicted)\n",
    "\n",
    "# 標準答案\n",
    "print(test_y)\n",
    "accuracy = metrics.accuracy_score(test_y, test_y_predicted)\n",
    "print(accuracy)\n",
    "\n",
    "from sklearn.datasets import load_iris\n",
    "from sklearn import neighbors\n",
    "from sklearn.cross_validation import train_test_split\n",
    "from sklearn import metrics\n",
    "import numpy as np\n",
    "import matplotlib.pyplot as plt\n",
    "\n",
    "# 讀入鳶尾花資料\n",
    "iris = load_iris()\n",
    "iris_X = iris.data\n",
    "iris_y = iris.target\n",
    "\n",
    "# 切分訓練與測試資料\n",
    "train_X, test_X, train_y, test_y = train_test_split(iris_X, iris_y, test_size = 0.3)\n",
    "\n",
    "# 選擇 k\n",
    "range = np.arange(1, round(0.2 * train_X.shape[0]) + 1)\n",
    "accuracies = []\n",
    "\n",
    "for i in range:\n",
    "    clf = neighbors.KNeighborsClassifier(n_neighbors = i)\n",
    "    iris_clf = clf.fit(train_X, train_y)\n",
    "    test_y_predicted = iris_clf.predict(test_X)\n",
    "    accuracy = metrics.accuracy_score(test_y, test_y_predicted)\n",
    "    accuracies.append(accuracy)\n",
    "\n",
    "# 視覺化\n",
    "plt.scatter(range, accuracies)\n",
    "plt.show()\n",
    "appr_k = accuracies.index(max(accuracies)) + 1\n",
    "print(appr_k)"
   ]
  },
  {
   "cell_type": "code",
   "execution_count": null,
   "metadata": {
    "collapsed": true
   },
   "outputs": [],
   "source": []
  },
  {
   "cell_type": "code",
   "execution_count": null,
   "metadata": {
    "collapsed": true
   },
   "outputs": [],
   "source": []
  }
 ],
 "metadata": {
  "kernelspec": {
   "display_name": "Python 2",
   "language": "python",
   "name": "python2"
  },
  "language_info": {
   "codemirror_mode": {
    "name": "ipython",
    "version": 2
   },
   "file_extension": ".py",
   "mimetype": "text/x-python",
   "name": "python",
   "nbconvert_exporter": "python",
   "pygments_lexer": "ipython2",
   "version": "2.7.12"
  }
 },
 "nbformat": 4,
 "nbformat_minor": 2
}
